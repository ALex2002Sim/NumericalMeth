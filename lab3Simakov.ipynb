{
 "cells": [
  {
   "cell_type": "code",
   "execution_count": 1,
   "id": "50fc9f0f",
   "metadata": {},
   "outputs": [],
   "source": [
    "import numpy as np\n",
    "from matplotlib import pyplot as plt\n",
    "from scipy import linalg"
   ]
  },
  {
   "cell_type": "markdown",
   "id": "ba22688d",
   "metadata": {},
   "source": [
    "# Задача 3.1\n",
    "Реализовать решение СЛАУ с помощью LU разложения и LU разложения по схеме частичного выбора. Решить систему небольшой размерности с возмущенной матрицей обоими методами, оценить погрешность и сравнить с теоретической оценкой. Проанализировать поведение методов с ростом числа уравнений.\n",
    "Элементы мматрицы задаются формулой\n",
    "\n",
    "$A_{i, j} = \\tan^{17-j}{(i+1)} \\quad \\forall i, j \\in [1, n] $"
   ]
  },
  {
   "cell_type": "code",
   "execution_count": 8,
   "id": "3d9e85f6",
   "metadata": {},
   "outputs": [],
   "source": [
    "#решение по схеме частичного выбора; модификация исходной матрицы\n",
    "def solveLU(A, b):\n",
    "    mtr = np.copy(A)\n",
    "    n = len(A)\n",
    "    x = np.zeros(n)\n",
    "    y = np.zeros(n)\n",
    "    \n",
    "    for u in range (n):\n",
    "        for i in range (u+1, n):\n",
    "            mtr[i][u] = mtr[i][u] / mtr[u][u]\n",
    "            for j in range (u+1, n):\n",
    "                mtr[i][j] = mtr[i][j] - mtr[i][u] * mtr[u][j]\n",
    "                \n",
    "    for i in range (n):\n",
    "        y[i] = b[i] - np.sum([ mtr[i][j] * y[j] for j in range (i) ])\n",
    "    for i in range (n-1, -1, -1):\n",
    "        x[i] = (y[i] - np.sum([x[j] * mtr[i][j] for j in range (n-1, i-1, -1)])) / mtr[i][i]\n",
    "        \n",
    "    return x"
   ]
  },
  {
   "cell_type": "code",
   "execution_count": 9,
   "id": "7d5ab5d8",
   "metadata": {},
   "outputs": [],
   "source": [
    "#LU разложение и матрица перестановок\n",
    "def permMtr(A):\n",
    "    n = len(A)\n",
    "    L = np.eye(n)\n",
    "    U = np.copy(A)\n",
    "    perm = np.eye(n)\n",
    "    \n",
    "    for u in range (n-1):\n",
    "        ph = np.eye(n)\n",
    "        uh = np.eye(n)\n",
    "        lh = np.eye(n)\n",
    "        maxEl = U[u][u].copy()\n",
    "        im = u\n",
    "        \n",
    "        for i in range (u+1, n):\n",
    "            if (abs(maxEl) < abs(U[i][u])):\n",
    "                maxEl = U[i][u].copy()\n",
    "                im = i\n",
    "        ph[im], ph[u] = np.copy(ph[u]), np.copy(ph[im])\n",
    "        U = ph @ U\n",
    "        \n",
    "        for i in range (u+1, n):\n",
    "            h = U[i][u] / U[u][u]\n",
    "            uh[i][u] = -h\n",
    "            lh[i][u] = h\n",
    "        U = uh @ U\n",
    "        perm = ph @ perm\n",
    "        L = L @ ph @ lh\n",
    "        \n",
    "    L = perm @ L\n",
    "    \n",
    "    return (L, U, perm)"
   ]
  },
  {
   "cell_type": "code",
   "execution_count": 10,
   "id": "d1b53c17",
   "metadata": {},
   "outputs": [],
   "source": [
    "#решение системы\n",
    "def solve(L, U, perm, b):\n",
    "    b = perm @ b\n",
    "    n = len(L)\n",
    "    y = np.zeros(n)\n",
    "    x = np.zeros(n)\n",
    "    \n",
    "    for i in range (n):\n",
    "        y[i] = b[i] - np.sum([L[i][j]*y[j] for j in range (i)])\n",
    "        \n",
    "    for i in range (n-1, -1, -1):\n",
    "        x[i] = (y[i] - np.sum([x[j] * U[i][j] for j in range (n-1, i-1, -1)]))/U[i][i]  \n",
    "    return x"
   ]
  },
  {
   "cell_type": "code",
   "execution_count": 11,
   "id": "07e33943",
   "metadata": {},
   "outputs": [
    {
     "name": "stdout",
     "output_type": "stream",
     "text": [
      "x1 = [10.99999749 10.99998857 10.99999605 11.00002115 11.00000306]\n",
      "x2 = [10.99999749 10.99998857 10.99999605 11.00002115 11.00000306]\n"
     ]
    }
   ],
   "source": [
    "A = np.array([[((np.tan(i+1))**(17-j)) for j in range (5)] for i in range (5)])\n",
    "X = np.array([11]*5)\n",
    "b = A @ X\n",
    "bEps = b\n",
    "bEps[0] += 1e-3\n",
    "AEps = np.copy(A)\n",
    "AEps[0][0] += 1e-3\n",
    "\n",
    "x1 = solveLU(AEps, bEps)\n",
    "\n",
    "lh, uh, ph = permMtr(AEps)\n",
    "x2 = solve(lh, uh, ph, bEps)\n",
    "\n",
    "print('x1 =', x1)\n",
    "print('x2 =', x2)"
   ]
  },
  {
   "cell_type": "code",
   "execution_count": 12,
   "id": "c89cbabe",
   "metadata": {},
   "outputs": [
    {
     "name": "stdout",
     "output_type": "stream",
     "text": [
      "error X:      1.0033553055293403e-06\n",
      "score error:  136489180.35097033\n"
     ]
    }
   ],
   "source": [
    "def errX (x, X):\n",
    "    return np.linalg.norm(x-X)/np.linalg.norm(x)\n",
    "\n",
    "def errXscr (A, b):\n",
    "    return np.linalg.cond(A)*(1e-3/np.linalg.norm(A, 2) + 1e-3/np.linalg.norm(b, 2))\n",
    "\n",
    "print('error X:     ', errX(x2, X))\n",
    "print('score error: ', errXscr (A, b))"
   ]
  },
  {
   "cell_type": "code",
   "execution_count": 14,
   "id": "16cd085c",
   "metadata": {},
   "outputs": [
    {
     "name": "stdout",
     "output_type": "stream",
     "text": [
      "1.2697189609729678e+20\n"
     ]
    }
   ],
   "source": [
    "print(np.linalg.cond(AEps))"
   ]
  },
  {
   "cell_type": "code",
   "execution_count": 15,
   "id": "a880048e",
   "metadata": {},
   "outputs": [],
   "source": [
    "errX1 = []\n",
    "errX2 = []\n",
    "for n in range (5, 15):\n",
    "    A = np.array([ [((np.tan(i+1)**(17-j))) for j in range (n)] for i in range (n)])\n",
    "    X = np.array([11]*n)\n",
    "    b = A @ X\n",
    "    bEps = b\n",
    "    bEps[0] += 1e-3\n",
    "    AEps = np.copy(A)\n",
    "    AEps[0][0] += 1e-3\n",
    "    \n",
    "    x1 = solveLU(AEps, bEps)\n",
    "    lh, uh, ph = permMtr(AEps)\n",
    "    x2 = solve(lh, uh, ph, bEps)\n",
    "    \n",
    "    errX1.append(errX(x1, X))\n",
    "    errX2.append(errX(x2, X))"
   ]
  },
  {
   "cell_type": "code",
   "execution_count": 16,
   "id": "12100d60",
   "metadata": {},
   "outputs": [
    {
     "data": {
      "image/png": "[encoded data removed]",
      "text/plain": [
       "<Figure size 1500x500 with 2 Axes>"
      ]
     },
     "metadata": {},
     "output_type": "display_data"
    }
   ],
   "source": [
    "fix, axs = plt.subplots(1, 2, figsize = (15, 5))\n",
    "axs[0].plot(range(5, 15), errX1, color = 'fuchsia', label = '1 метод')\n",
    "axs[1].plot(range(5, 15), errX2, color = 'darkslateblue', label = '2 метод')\n",
    "axs[0].legend()\n",
    "axs[0].grid()\n",
    "axs[1].legend()\n",
    "axs[1].grid()"
   ]
  },
  {
   "cell_type": "markdown",
   "id": "330ee005",
   "metadata": {},
   "source": [
    "# Задача 3.2\n",
    "Дана система уравнений $Ax=b$  порядка $n = 52$ с разреженной матрицей . Решить систему прямым методом.\n",
    "\n",
    "На главной диагонали и в 10-ом столбце элементы равны 15, на побочной диагонали элементы равны 2\n",
    "\n",
    "$b_i = i^3 - \\sqrt{2i}$\n"
   ]
  },
  {
   "cell_type": "code",
   "execution_count": 17,
   "id": "32e59ba7",
   "metadata": {},
   "outputs": [],
   "source": [
    "#решение по собственному методу\n",
    "def SimakovMeth(main, side, col, b):\n",
    "    x = np.zeros(52)\n",
    "    x[42] = (main * b[26] - side * b[9]) / ((main)**(2) - (side)**(2))\n",
    "    x[9] = (b[9] - side * x[42]) / main\n",
    "    \n",
    "    for i in range (26):\n",
    "        if i != 9:\n",
    "            x[51-i] = (main*b[51-i] - side*b[i] + side*col*x[9] - main*col*x[9])/((main)**(2) - (side)**(2))\n",
    "            x[i] = (b[i] - col*x[9] - side*x[51-i])/main\n",
    "    return x"
   ]
  },
  {
   "cell_type": "code",
   "execution_count": 18,
   "id": "ae0e8b45",
   "metadata": {},
   "outputs": [
    {
     "name": "stdout",
     "output_type": "stream",
     "text": [
      "[0. 0. 0. 0. 0. 0. 0. 0. 0. 1. 0. 0. 0. 0. 0. 0. 0. 0. 0. 0. 0. 0. 0. 0.\n",
      " 0. 0. 0. 0. 0. 0. 0. 0. 0. 0. 0. 0. 0. 0. 0. 0. 0. 0. 1. 0. 0. 0. 0. 0.\n",
      " 0. 0. 0. 0.]\n"
     ]
    }
   ],
   "source": [
    "#тестовый пример\n",
    "main = 2\n",
    "side = 1\n",
    "col = 3\n",
    "b = [3]*52\n",
    "\n",
    "xT = SimakovMeth(main, side, col, b)\n",
    "print(xT)"
   ]
  },
  {
   "cell_type": "code",
   "execution_count": 19,
   "id": "c66a0322",
   "metadata": {},
   "outputs": [
    {
     "name": "stdout",
     "output_type": "stream",
     "text": [
      "[-1103.486 -1034.275  -967.316  -902.194  -838.451  -775.628  -713.265\n",
      "  -650.9    -588.073  -109.802  -459.184  -392.2    -322.907  -250.845\n",
      "  -175.551   -96.565   -13.424    74.332   167.166   265.538   369.911\n",
      "   480.745   598.503   723.645   856.634   997.931  1147.997  1307.294\n",
      "  1476.284  1655.427  1845.186  2046.022  2258.397  2482.772  2719.608\n",
      "  2969.367  3232.512  3509.502  3800.8    4106.867  4428.166  4765.156\n",
      "  1185.893  5488.06   5874.897  6279.271  6701.646  7142.482  7602.241\n",
      "  8081.384  8580.372  9099.66 ]\n"
     ]
    }
   ],
   "source": [
    "#матрица из задачи\n",
    "b = [0]*52\n",
    "for i in range (0, 52):\n",
    "    b[i] = i**3 - np.sqrt(2*i)\n",
    "\n",
    "main = 15\n",
    "side = 2\n",
    "col = 15\n",
    "\n",
    "x1 = SimakovMeth(main, side, col, b)\n",
    "print(np.round(x1, 3))"
   ]
  },
  {
   "cell_type": "markdown",
   "id": "e0a86450",
   "metadata": {},
   "source": [
    "# Задача 3.3\n",
    "Дана система уравнений $Ax=b$  порядка $m = 26$. Решить методом минимальных невязок.\n",
    "\n",
    "$x_i = 49$\n",
    "$\\beta = 572$\n",
    "\n",
    "$A_{i, j} = \\frac{\\cos{(i+j)}}{0.1\\beta} + 0.1\\beta e^{-(i-j)^2} \\quad \\forall i, j \\in [1, m]$"
   ]
  },
  {
   "cell_type": "code",
   "execution_count": 20,
   "id": "7f8465b2",
   "metadata": {},
   "outputs": [],
   "source": [
    "m = 26\n",
    "beta = 572\n",
    "eps = 10**(-12)\n",
    "\n",
    "#метод минимальных невязок\n",
    "def minResMeth(A, b, eps):\n",
    "    it = 0\n",
    "    x = np.zeros(m)\n",
    "    y = np.zeros(m)\n",
    "    y = A@x - b\n",
    "    while (linalg.norm(A@x - b, ord = 2)/linalg.norm(b, ord = 2)) >= eps:\n",
    "        t = np.sum((A@y)*y)/np.sum((A@y)*(A@y))\n",
    "        x -= (t*y)\n",
    "        y = A@x - b\n",
    "        it += 1\n",
    "    return x, it"
   ]
  },
  {
   "cell_type": "code",
   "execution_count": 21,
   "id": "ab91f802",
   "metadata": {},
   "outputs": [
    {
     "name": "stdout",
     "output_type": "stream",
     "text": [
      "x =  [49. 49. 49. 49. 49. 49. 49. 49. 49. 49. 49. 49. 49. 49. 49. 49. 49. 49.\n",
      " 49. 49. 49. 49. 49. 49. 49. 49.]\n",
      "\n",
      "it = 59\n"
     ]
    }
   ],
   "source": [
    "A = np.array([[np.math.cos(i + j)/(0.1*beta) + 0.1*beta*np.math.exp(-(i-j)**2) for j in range (m)] for i in range (m)])\n",
    "xh = np.array([49]*26)\n",
    "b = A@xh\n",
    "x, it = minResMeth(A, b, eps)\n",
    "\n",
    "print('x = ', x)\n",
    "print('')\n",
    "print('it =', it)"
   ]
  }
 ],
 "metadata": {
  "kernelspec": {
   "display_name": "Python 3 (ipykernel)",
   "language": "python",
   "name": "python3"
  },
  "language_info": {
   "codemirror_mode": {
    "name": "ipython",
    "version": 3
   },
   "file_extension": ".py",
   "mimetype": "text/x-python",
   "name": "python",
   "nbconvert_exporter": "python",
   "pygments_lexer": "ipython3",
   "version": "3.9.13"
  }
 },
 "nbformat": 4,
 "nbformat_minor": 5
}
