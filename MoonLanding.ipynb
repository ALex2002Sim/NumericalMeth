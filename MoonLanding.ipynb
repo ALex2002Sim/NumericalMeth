{
 "cells": [
  {
   "cell_type": "code",
   "execution_count": 2,
   "metadata": {},
   "outputs": [],
   "source": [
    "import numpy as np\n",
    "import math\n",
    "import random\n",
    "import matplotlib.pyplot as plt\n",
    "from tkinter import *\n",
    "import time\n",
    "from PIL import Image, ImageTk"
   ]
  },
  {
   "cell_type": "markdown",
   "metadata": {},
   "source": [
    "# 1. Условие задачи\n",
    "Рассмотрим процесс сближения космического аппарата с Луной в условиях, когда притяжением других тел Солнечной системы можно пренебречь. В этих условиях движение аппарата будет определяться лунной силой тяжести, а также силой тяги собственного реактивного двигателя аппарата.\n",
    "\n",
    "Пусть начальная масса аппарата $m_0 = 400$ кг и она уменьшается по мере расхода топлива. Пусть запас топлива $m_f = 450$. Предположим, что в начальный момент времени $t=0$ аппарат на некотором расстоянии $R_0$ от центра Луны (радиус Луны $R_л = 1737$) и начинает свою посадку со скоростью $v_0$. Расход топлива в единицу времени $q = \\frac{dm_f(t)}{dt}$ может задаваться на нужном уровне. Скорость истечения рабочих газов из сопла реактивного двигателя примерно равна $u=2$ км/ч. Двигатель включается в начальный момент времени и создаёт тормозящее усилие до момента прилунения или до полного израсходования топлива.\n",
    "\n",
    "Итоговой целью нашей работы мы считаем расчёт оптимального значения расхода топлива в единицу времени, при котором происходит достаточно мягкая посадка на поверхность Луны"
   ]
  },
  {
   "cell_type": "code",
   "execution_count": 3,
   "metadata": {},
   "outputs": [],
   "source": [
    "#Ускорение свободного падения\n",
    "g = 1.62\n",
    "#Масса аппарата в t0\n",
    "m0 = 400\n",
    "#Масса топлива в t0\n",
    "mf = 350\n",
    "#Расстояние до центра в t0\n",
    "R0 = 7*(10**6)\n",
    "#Радиус Луны\n",
    "Rl = 1737000\n",
    "#начальная скорость\n",
    "v0 = -9000\n",
    "#Скорость газов\n",
    "u = 2500\n",
    "#Расход топлива\n",
    "q = 1"
   ]
  },
  {
   "cell_type": "markdown",
   "metadata": {},
   "source": [
    "Как известно ещё из курса школьной физики, движение описывается вторым законом Ньютона, и мы поступим также\n",
    "\n",
    "$\\displaystyle \\sum_{i=1}^n F_{внеш_i} = \\frac{dp}{dt}$\n",
    "\n",
    "Как известно\n",
    "\n",
    "$p(t) = v(t)m(t)$\n",
    "\n",
    "Тогда\n",
    "\n",
    "$\\displaystyle \\sum_{i=1}^n F_{внеш_i} = \\frac{dp}{dt} = m(t)\\frac{dv}{dt} + v(t)\\frac{dm}{dt}$\n"
   ]
  },
  {
   "cell_type": "markdown",
   "metadata": {},
   "source": [
    "В ходе движения на наш аппарат действуют 2 внешние силы: сила тяги, возникающая в ходе реактивного движения, и сила тяжести, следовательно, получаем\n",
    "\n",
    "$\\displaystyle \\sum_{i=1}^n F_{внеш_i} = -m(t)g + F_{тяг}$"
   ]
  },
  {
   "cell_type": "markdown",
   "metadata": {},
   "source": [
    "Для дальнейших рассуждений введём вспомогательную функцию, которая будет описывать массу аппарата в зависимости от времени\n",
    "\n",
    "$m(t) = m_0 - m_f(t)$\n",
    "\n",
    "Здесь $m_f(t)$ – функция, описывающая зависимость массы топлива в аппарате от времени."
   ]
  },
  {
   "cell_type": "markdown",
   "metadata": {},
   "source": [
    "Продифференцируем полученную вспомогательную функцию\n",
    "\n",
    "$\\displaystyle \\frac{dm}{dt} = -\\frac{dm_f}{dt} = -q$"
   ]
  },
  {
   "cell_type": "markdown",
   "metadata": {},
   "source": [
    "По определению, скорость – первая производная от координаты\n",
    "\n",
    "$\\displaystyle \\frac{dv}{dt} = \\frac{d^2h}{dt} = h''(t)$\n",
    "\n",
    "Здесь была введена функция $h(t)$ – функция, описывающая изменение высоты, на которой находится аппарат с течением времени."
   ]
  },
  {
   "cell_type": "markdown",
   "metadata": {},
   "source": [
    "Тогда  можно получить следующее уравнение для $F_{тяг}$\n",
    "\n",
    "$\\displaystyle F_{тяг} = u\\frac{dm_f}{dt} = uq$"
   ]
  },
  {
   "cell_type": "markdown",
   "metadata": {},
   "source": [
    "В итоге приходим к следующему уравнению\n",
    "\n",
    "$-m(t)g + uq = m(t)h''(t) + qh'(t)$\n",
    "\n",
    "Тогда\n",
    "\n",
    "$\\displaystyle h''(t) = \\frac{-m(t)g + q(u - h'(t))}{m(t)}$"
   ]
  },
  {
   "cell_type": "markdown",
   "metadata": {},
   "source": [
    "Используя начальные условия, поставим задачу Коши, с помощью которой будем получать значения функций $h(t)$ и $h'(t)$\n",
    "\n",
    "$\\displaystyle h''(t) = \\frac{-m(t)g + q(u - h'(t))}{m(t)}$\n",
    "\n",
    "$h(0) = R_0 - R_л$\n",
    "\n",
    "$h'(0) = v_0$"
   ]
  },
  {
   "cell_type": "markdown",
   "metadata": {},
   "source": [
    "Сделаем замену $h'(t) = v(t)$, и составим систему дифференциальных уравнений для решения поставленной задачи относительно функций $h(t)$ и $v(t)$\n",
    "\n",
    "$h'(t) = v(t)$\n",
    "\n",
    "$\\displaystyle v'(t) = \\frac{-m(t)g + q(u - v(t))}{m(t)}$\n",
    "\n",
    "$h(0) = R_0 - R_л$\n",
    "\n",
    "$v(0) = v_0$"
   ]
  },
  {
   "cell_type": "markdown",
   "metadata": {},
   "source": [
    "# 2. Численное решение задачи\n",
    "Для решения задачи будем использовать метод Рунге-Кутты четвёртого порядка точности. Запишем его в виде системы\n",
    "\n",
    "$\\displaystyle y_{i+1} = y_i + \\frac{h}{6}\\left(k_1 + 2k_2 + 2k_3 +k_4 \\right)$\n",
    "\n",
    "$k_1 = f(t_i, y_i)$\n",
    "\n",
    "$\\displaystyle k_2 = f\\left( t_i + \\frac{h}{2}, y_i +h  \\frac{k_1}{2}\\right)$\n",
    "\n",
    "$\\displaystyle k_3 = f\\left( t_i + \\frac{h}{2}, y_i +h  \\frac{k_2}{2}\\right)$\n",
    "\n",
    "$\\displaystyle k_4 = f\\left( t_i + h, y_i +h  k_3\\right)$"
   ]
  },
  {
   "cell_type": "code",
   "execution_count": 10,
   "metadata": {},
   "outputs": [],
   "source": [
    "#Изменение массы\n",
    "def funcMas(h):\n",
    "    return(m0 - h*q)\n",
    "#вспомогательные функции для метода Рунге-Кутты 4-ого порядка точности\n",
    "\n",
    "def FR1(t, v, t0, q):\n",
    "    return v\n",
    "\n",
    "def FR2(t, v, t0, q):\n",
    "    return ((-funcMas(t0)*g+q*(u-v))/funcMas(t0))\n",
    "\n",
    "def K1(y, t, FR, q):\n",
    "    return FR(t, y, t, q)\n",
    "\n",
    "def K2(y, t, h, K1, FR, q):\n",
    "    return FR(t + h/2, y + (h * K1)/2, t, q)\n",
    "\n",
    "def K3(y, t ,h, K2, FR, q):\n",
    "    return FR(t + h/2, y + (h*K2)/2, t, q)\n",
    "\n",
    "def K4(y, t ,h, K3, FR, q):\n",
    "    return FR(t + h, y + h*K3, t, q)\n",
    "\n",
    "#вспомогательная функция для возвращения y_i+1\n",
    "def funcH1 (y, h, K1, K2, K3, K4):\n",
    "    return y + (h/6)*(K1+2*K2+2*K3+K4)\n",
    "\n",
    "#Метод Рунге-Кутты 4 порядка с заданным шагом\n",
    "def RungKutt (h, High0, v0, q):\n",
    "    y = [[],[],[]]\n",
    "    y[0].append(High0)\n",
    "    y[1].append(v0)\n",
    "    y[2].append(350)\n",
    "    flag = -1\n",
    "    i = 1\n",
    "    while (flag == -1):\n",
    "\n",
    "        if (funcMas((i-1)*h) <= m0 - mf):\n",
    "            flag = 2\n",
    "            break\n",
    "        \n",
    "        #Высчитываем h\n",
    "        K1ex = K1(y[1][i-1], (i-1)*h, FR1, q)\n",
    "        K2ex = K2(y[1][i-1], (i-1)*h, h, K1ex, FR1, q)\n",
    "        K3ex = K3(y[1][i-1], (i-1)*h, h, K2ex, FR1, q)\n",
    "        K4ex = K4(y[1][i-1], (i-1)*h, h, K3ex, FR1, q)\n",
    "        y[0].append(funcH1(y[0][i-1], h, K1ex, K2ex, K3ex, K4ex))\n",
    "        \n",
    "        #Высчитываем v\n",
    "        K1ex = K1(y[1][i-1], (i-1)*h, FR2, q)\n",
    "        K2ex = K2(y[1][i-1], (i-1)*h, h, K1ex, FR2, q)\n",
    "        K3ex = K3(y[1][i-1], (i-1)*h, h, K2ex, FR2, q)\n",
    "        K4ex = K4(y[1][i-1], (i-1)*h, h, K3ex, FR2, q)\n",
    "        y[1].append(funcH1(y[1][i-1], h, K1ex, K2ex, K3ex, K4ex))\n",
    "        if (y[0][i] < 0) : flag = 0\n",
    "        if (y[1][i] > 0) : flag = 1\n",
    "        y[2].append(funcMas((i-1)*h)-50)\n",
    "        \n",
    "        i+=1\n",
    "    \n",
    "    return y, flag\n",
    "#Рисования анимации прилунения\n",
    "def DrawAnimation(mas):\n",
    "    #win = Tk()\n",
    "    win = Toplevel()\n",
    "    win.geometry(\"700x700\")\n",
    "    mx = 1000\n",
    "    my = 750\n",
    "    c = Canvas(win, width=mx, height=my)\n",
    "    c.pack(pady=20)\n",
    "    #Нарисую и сгруппирую ракету и луну\n",
    "    imagemoon = ImageTk.PhotoImage(Image.open('C://moon.jpg'))\n",
    "    imgmoon = c.create_image(0, 0, anchor=NW, image=imagemoon)\n",
    "    imagerocet = ImageTk.PhotoImage(Image.open('C://rocet.png'))\n",
    "    imgroc = c.create_image(500, 0, anchor=NW, image=imagerocet)\n",
    "    #Для действительного отображения определю на какой высоте остановилась ракеты\n",
    "    razn = mas[0][len(mas[0])-1]//11695\n",
    "    #razn = 500000//11695\n",
    "    print(mas[0][len(mas[0])-1])\n",
    "    #Напишу текст\n",
    "    c.create_text(75, 50, text=\"Текущая высота:\", fill = \"white\", font=(\"Times\", 15))\n",
    "    c.create_text(83, 85, text=\"Текущая скорость:\", fill = \"white\", font=(\"Times\", 15))\n",
    "    c.create_text(80, 120, text=\"Остаток топлива:\", fill = \"white\", font=(\"Times\", 15))\n",
    "    #Наши изменяющиеся параметры\n",
    "    tHe = str(mas[0][0])\n",
    "    tSp = str(np.abs(mas[1][0]))\n",
    "    tFuel = str(mas[2][0])\n",
    "    c.create_text(275, 50, text=tHe, fill = \"white\", font=(\"Times\", 15))\n",
    "    c.create_text(275, 85, text=tSp, fill = \"white\", font=(\"Times\", 15))\n",
    "    c.create_text(275, 120, text=tFuel, fill = \"white\", font=(\"Times\", 15))\n",
    "    #Для корректного изменения скорости и высоты\n",
    "    kef = int(len(mas[0])//(450-razn))\n",
    "    for i in range(int(450-razn)):\n",
    "        #Обновляем текущие параметры\n",
    "        tHe = str(mas[0][i*kef])\n",
    "        tSp = str(np.abs(mas[1][i*kef]))\n",
    "        tFuel = str(mas[2][i*kef])\n",
    "        c.create_rectangle(165, 10, 400, 175, fill=\"black\", width=3)\n",
    "        c.create_text(275, 50, text=tHe, fill = \"white\", font=(\"Times\", 15))\n",
    "        c.create_text(275, 85, text=tSp, fill = \"white\", font=(\"Times\", 15))\n",
    "        c.create_text(275, 120, text=tFuel, fill = \"white\", font=(\"Times\", 15))\n",
    "        c.move(imgroc, 0, 1)\n",
    "        win.update()\n",
    "        time.sleep(0.005)\n",
    "    #Записываю финальные парметры\n",
    "    tHe = str(mas[0][len(mas[0])-1])\n",
    "    tSp = str(np.abs(mas[1][len(mas[1])-1]))\n",
    "    tFuel = str(mas[2][len(mas[2])-1])\n",
    "    c.create_rectangle(165, 10, 400, 175, fill=\"black\", width=3)    \n",
    "    c.create_text(275, 50, text=tHe, fill = \"white\", font=(\"Times\", 15))\n",
    "    c.create_text(275, 85, text=tSp, fill = \"white\", font=(\"Times\", 15))\n",
    "    c.create_text(275, 120, text=tFuel, fill = \"white\", font=(\"Times\", 15))\n",
    "    win.mainloop()\n",
    "\n",
    "\n",
    "def ShowResult(mas, fl):\n",
    "    if (fl == 2):\n",
    "        print(\"В аппарате кончилось топливо\")\n",
    "        print(\"Oн находится на высоте\", mas[0][len(mas[0])-1], \"м\")\n",
    "        print(\"И летит со скоростью\", mas[1][len(mas[1])-1], \"м/с\")\n",
    "    if (fl == 0):print(\"Аппарат достиг луны со скоростью\", mas[1][len(mas[1])-1], \"м/с\")\n",
    "    if (fl == 1):print(\"Аппарат полностью остановился на высоте\", mas[0][len(mas[0])-1], \"м от луны\")\n",
    "\n",
    "#Шаг в секундах\n",
    "h = 0.001"
   ]
  },
  {
   "cell_type": "markdown",
   "metadata": {},
   "source": [
    "Проведём тесты с заданным $q$"
   ]
  },
  {
   "cell_type": "code",
   "execution_count": 11,
   "metadata": {},
   "outputs": [
    {
     "name": "stdout",
     "output_type": "stream",
     "text": [
      "Аппарат полностью остановился на высоте 2228487.641904112 м от луны\n"
     ]
    }
   ],
   "source": [
    "q = 0.5\n",
    "mas, fl = RungKutt(h, R0 - Rl, v0, q)\n",
    "ShowResult(mas, fl)"
   ]
  },
  {
   "cell_type": "code",
   "execution_count": 12,
   "metadata": {},
   "outputs": [
    {
     "name": "stdout",
     "output_type": "stream",
     "text": [
      "Аппарат полностью остановился на высоте 1400294.0402268858 м от луны\n"
     ]
    }
   ],
   "source": [
    "q = 0.4\n",
    "mas, fl = RungKutt(h, R0 - Rl, v0, q)\n",
    "ShowResult(mas, fl)"
   ]
  },
  {
   "cell_type": "code",
   "execution_count": 13,
   "metadata": {},
   "outputs": [
    {
     "name": "stdout",
     "output_type": "stream",
     "text": [
      "Аппарат достиг луны со скоростью -917.272164606509 м/с\n"
     ]
    }
   ],
   "source": [
    "q = 0.3\n",
    "mas, fl = RungKutt(h, R0 - Rl, v0, q)\n",
    "ShowResult(mas, fl)"
   ]
  },
  {
   "cell_type": "markdown",
   "metadata": {},
   "source": [
    "При $q=0.3$ появляется новая ситуация: аппарат не успел полностью остановиться, и достиг поверхности Луны с достаточно большой скоростью.\n",
    "\n",
    "Оптимальное значение $q$ находится на отрезке $[0.3, 0.4]$, так как при значении $q=0.4$ расход получается слишком большим, поэтому всё топливо сгорает до момента посадки, и аппарат останавливается на большой высоте. С другой стороны, при $q=0.3$ расход слишком маленький, и аппарат не успевает остановиться.\n",
    "\n",
    "Для того чтобы вручную не подбирать расход топлива, была разработана функция вычисления оптимального расхода для достаточно мягкой посадки аппарата, именно она позволяет упростить процесс подбора. "
   ]
  },
  {
   "cell_type": "markdown",
   "metadata": {},
   "source": [
    "Опишем её алгоритм:\n",
    "Функция в качестве входных параметров получает следующие значения: $h$ - шаг для метода решения задачи Коши, $R$ – расстояние до центра Луны в момент времени $t = 0$ и $v_0$ – скорость аппарата в момент начала процесса прилунения. Далее вводим вспомогательные переменные: $levot$ – левая граница отрезка локализации оптимального расхода топлива, $prot$ – правая; $vr$ – начальное значение оптимального расхода топлива, которое будет меняться в рамках отрезка ; $k$ – шаг, с которым мы будем идти по отрезку ; $flagost$ – логическая переменная для остановки цикла, начальное значение - $True$.\n",
    "\n",
    "Запускаем цикл $while$. \n",
    "\n",
    "Далее с помощью метода Рунге-Кутты 4-ого порядка находим значение высоты, на которой произошла остановка или значение скорости, с которой приземлился аппарат, также получаем значение переменной $flagvr$, которая отвечает за номер ситуации (0 – аппарат достигает луны с какой-то скоростью; 1 - остановка аппарата на какой-то высоте, но топливо не закончилось; 2 – в аппарате кончается топливо). \n",
    "\n",
    "Теперь сравниваем полученные значения высоты и скорости с двумя константами: 3 м, -2 м/c. Эти данные мы посчитали приемлемыми для того, чтобы аппарат совершил мягкую посадку. (*)\n",
    "\n",
    "Если высота меньше 3 метров, а скорость больше, чем -2 метра в секунду, то выходим из цикла $while$, при этом возвращая значение расхода, при котором были получены данные высота и скорость. \n",
    "\n",
    "Далее, если $flagvr$ = 1 или $flagvr$ = 2, то был найден нужный нам отрезок локализации, на котором находится искомое значение расхода. Теперь мы записываем в $prot$ значение $vr$, а в $levot$ значение $vr-k$, уменьшаем $k$ в 10 раз, дабы на следующем шаге цикла рассматривать новый отрезок $[levot, prot]$ с шагом в 10 раз меньше, присваиваем $vr$ значение $levot$. Если же отрезок не найден, то делаем увеличиваем значение $vr$ на $k$.\n",
    "\n",
    "После всех манипуляций повторяем алгоритм до тех пор, пока наши значения не будут удовлетворять константам из (*).\n",
    "\n",
    "Пример: мы нашли промежуток, который нам подходит [0.2; 0.3]. Повышаем порядок поиска, и теперь проходимся по всем сотым между [0.2, 0.3]: [0.2,0.21], [0.21, 0.22], [0.22, 0.23]. \n",
    "\n",
    "Как только нашли новый отрезок начинаем поиск внутри него по тысячным. \n",
    "Поиск прекращается, когда левый конец отрезка будет удовлетворять благоприятным условиям посадки ракеты."
   ]
  },
  {
   "cell_type": "code",
   "execution_count": 14,
   "metadata": {},
   "outputs": [],
   "source": [
    "def findFuelCons(h, R, v0):\n",
    "    levot = 0\n",
    "    prot = 0.1\n",
    "    vr = 0\n",
    "    k = 0.1\n",
    "    kForRound = 1\n",
    "    while(True):\n",
    "        masvr, flagvr = RungKutt(h, R - Rl, v0, vr)\n",
    "        if ((masvr[0][len(masvr[1])-1] < 3)and(masvr[1][len(masvr[1])-1] > - 2)):\n",
    "            return(vr)\n",
    "        if ((flagvr == 1)or(flagvr == 2)):\n",
    "            prot = round(vr, kForRound)\n",
    "            levot = round(vr - k, kForRound)\n",
    "            kForRound += 1\n",
    "            k=round(k*0.1, kForRound)\n",
    "            vr = round(levot, kForRound)\n",
    "        else:\n",
    "            vr = round(vr + k, kForRound)"
   ]
  },
  {
   "cell_type": "code",
   "execution_count": 15,
   "metadata": {},
   "outputs": [
    {
     "name": "stdout",
     "output_type": "stream",
     "text": [
      "Оптимальный расход топлива равен 0.3036811\n",
      "Аппарат полностью остановился на высоте 0.2740444739454272 м от луны\n"
     ]
    }
   ],
   "source": [
    "qres = findFuelCons(h, R0, v0)\n",
    "print('Оптимальный расход топлива равен', qres)\n",
    "mas, fl = RungKutt(h, R0 - Rl, v0, qres)\n",
    "ShowResult(mas, fl)"
   ]
  },
  {
   "cell_type": "code",
   "execution_count": 16,
   "metadata": {},
   "outputs": [
    {
     "data": {
      "image/png": "[encoded data removed]",
      "text/plain": [
       "<Figure size 1200x500 with 2 Axes>"
      ]
     },
     "metadata": {},
     "output_type": "display_data"
    }
   ],
   "source": [
    "#Нарисую графики изменения скорости и расстояния до луны\n",
    "#Сформирую ось x\n",
    "xline = np.zeros(len(mas[0]))\n",
    "for i in range(len(mas[0])):\n",
    "    xline[i] = i*h\n",
    "fig, axs = plt.subplots(1, 2, figsize=[12, 5])\n",
    "#Сформирую наши массивы значений\n",
    "axs[0].plot(xline, np.abs(mas[0]), color = 'fuchsia', label = \"График расстояния\")\n",
    "axs[1].plot(xline, np.abs(mas[1]), color = 'darkviolet', label = \"График модуля скорости\")\n",
    "for i in range(2):\n",
    "    axs[i].grid()\n",
    "    axs[i].legend()\n",
    "plt.show()"
   ]
  },
  {
   "cell_type": "markdown",
   "metadata": {},
   "source": [
    "Получается, отрезок локализации был выбран правильно. Оптимальным значением является $q = 0.3036811$. При этом аппарат остановился от Луны на расстоянии, которое чуть больше, чем 25 см, что не является критическим, если учесть расстояния, которыми оперируют в астрофизике"
   ]
  },
  {
   "cell_type": "markdown",
   "metadata": {},
   "source": [
    "В заключении хотелось бы отметить и обобщить полученные результаты. При выполнении курсовой работы основной задачей  было нахождение оптимального расхода топлива, при котором аппарат будет совершать мягкую посадку. Результатом работы стало значение расхода, при котором возникает ситуация полной остановки аппарата на достаточно малой высоте. Это расстояние может быть пройдено аппаратом под действием собственной силы тяжести. В силу того, что оно мало, аппарат не сможет достичь скорости, способной навредить ему при посадке. \n",
    "\n",
    "Резюмируя всё вышесказанное, мы считаем, что наша цель достигнута."
   ]
  },
  {
   "cell_type": "markdown",
   "metadata": {},
   "source": [
    "# Список использованных источников\n",
    "1. Muresan Marian. Мягкая посадка на Луну при помощи математики // Математический журнал – 2012. Вып. (14).\n",
    "\n",
    "2. Амосов А. А., Дубинский Ю. А., Копченова Н.В. Вычислительные методы. М: Издательский дом МЭИ, 2003\n",
    "\n",
    "3. https://www.nasa.gov/pdf/377727main_Lunar_Math.pdf (дата обращения 07.12.2022)"
   ]
  }
 ],
 "metadata": {
  "kernelspec": {
   "display_name": "Python 3",
   "language": "python",
   "name": "python3"
  },
  "language_info": {
   "codemirror_mode": {
    "name": "ipython",
    "version": 3
   },
   "file_extension": ".py",
   "mimetype": "text/x-python",
   "name": "python",
   "nbconvert_exporter": "python",
   "pygments_lexer": "ipython3",
   "version": "3.9.13"
  }
 },
 "nbformat": 4,
 "nbformat_minor": 2
}
